{
 "cells": [
  {
   "cell_type": "code",
   "execution_count": 1,
   "metadata": {
    "id": "zT1U_6dp5sp5"
   },
   "outputs": [],
   "source": [
    "_ = \"\"\"\n",
    "Code Structure \n",
    "\n",
    "Part 1 \n",
    "CLass - KNN_Model - Proposed KNN Model\n",
    "Function - Run_Leave_One_Out_KNN - Function to carry out leave-one-out evaluation routine for Proposed KNN Model\n",
    "\n",
    "Part 2\n",
    "CLass - KNN_Model - Proposed KNN Model\n",
    "Function - Run_Leave_One_Out_KNN - Function to carry out leave-one-out evaluation routine for Proposed KNN Model\n",
    "\"\"\"\n",
    "\n",
    "# Taking Training data\n",
    "Train_Data = \"\"\"(( 1.6530190426733, 72.871146648479, 24), W )\n",
    "(( 1.6471384909498, 72.612785314988, 34), W )\n",
    "(( 1.6472055785348, 73.53968351051, 33), M )\n",
    "(( 1.7323008914951, 76.067870338779, 30), M )\n",
    "(( 1.6750702657911, 81.05582111533, 30), M )\n",
    "(( 1.5780970716644, 64.926084680188, 30), W )\n",
    "(( 1.6587629355524, 69.38092449041, 30), M )\n",
    "(( 1.6763295980234, 77.062295990149, 31), M )\n",
    "(( 1.7187224085504, 62.112923317057, 37), W )\n",
    "(( 1.5202218226439, 66.151444019603, 27), W )\n",
    "(( 1.5552689261884, 66.076386143769, 31), W )\n",
    "(( 1.6969333189258, 77.45386244568, 34), M )\n",
    "(( 1.6887980792886, 76.489640732464, 37), M )\n",
    "(( 1.5213552893624, 63.952944947832, 35), W )\"\"\"\n",
    "\n",
    "# Taking Testing data\n",
    "Test_Data = \"\"\"( 1.62065758929, 59.376557437583, 32)\n",
    "( 1.7793983848363, 72.071775670801, 36)\n",
    "( 1.7004576585974, 66.267508112786, 31)\n",
    "( 1.6591086215159, 61.751621901787, 29)\"\"\"\n",
    "\n",
    "# Taking Program data\n",
    "Program_Data = \"\"\"(( 1.5963600450124, 75.717194178189, 23), W )\n",
    "(( 1.6990610819676, 83.477307503684, 25), M )\n",
    "(( 1.5052092436, 74.642420817737, 21), W )\n",
    "(( 1.5738635789008, 78.562465284603, 30), M )\n",
    "(( 1.796178772769, 74.566117057707, 29), M )\n",
    "(( 1.6274618774347, 82.250591567161, 21), W )\n",
    "(( 1.6396843250708, 71.37567170848, 20), W )\n",
    "(( 1.538505823668, 77.418902097029, 32), W )\n",
    "(( 1.6488692005889, 76.333044488477, 26), W )\n",
    "(( 1.7233804613095, 85.812112126306, 27), M )\n",
    "(( 1.7389100516771, 76.424421782215, 24), W )\n",
    "(( 1.5775696242624, 77.201404139171, 29), W )\n",
    "(( 1.7359417237856, 77.004988515324, 20), M )\n",
    "(( 1.5510482441354, 72.950756316157, 24), W )\n",
    "(( 1.5765653263667, 74.750113664457, 34), W )\n",
    "(( 1.4916026885377, 65.880438515643, 28), W )\n",
    "(( 1.6755053770068, 78.901754249459, 22), M )\n",
    "(( 1.4805881225567, 69.652364469244, 30), W )\n",
    "(( 1.6343943760912, 73.998278712613, 30), W )\n",
    "(( 1.6338449829543, 79.216500811112, 27), W )\n",
    "(( 1.5014451222259, 66.917339299419, 27), W )\n",
    "(( 1.8575887178701, 79.942454850988, 28), M )\n",
    "(( 1.6805940669394, 78.213519314007, 27), W )\n",
    "(( 1.6888905106948, 83.031099742808, 20), M )\n",
    "(( 1.7055120272359, 84.233282531303, 18), M )\n",
    "(( 1.5681965896812, 74.753880204215, 22), W )\n",
    "(( 1.6857758389206, 84.014217544019, 25), W )\n",
    "(( 1.7767370337678, 75.709336556562, 27), M )\n",
    "(( 1.6760125952287, 74.034126149139, 28), M )\n",
    "(( 1.5999112612548, 72.040030344184, 27), M )\n",
    "(( 1.6770845322305, 76.149431872551, 25), M )\n",
    "(( 1.7596128136991, 87.366395298795, 29), M )\n",
    "(( 1.5344541456027, 73.832214971449, 22), W )\n",
    "(( 1.5992629534387, 82.4806916967, 34), W )\n",
    "(( 1.6714162787917, 67.986534194515, 29), W )\n",
    "(( 1.7070831676329, 78.269583353177, 25), M )\n",
    "(( 1.5691295338456, 81.09431696972, 27), M )\n",
    "(( 1.7767893419281, 76.910413184648, 30), M )\n",
    "(( 1.5448153215763, 76.888087599642, 32), W )\n",
    "(( 1.5452842691008, 69.761889289463, 30), W )\n",
    "(( 1.6469991919639, 82.289126983444, 18), W )\n",
    "(( 1.6353732734723, 77.829257585654, 19), W )\n",
    "(( 1.7175342426502, 85.002276406574, 26), M )\n",
    "(( 1.6163551692382, 77.247935733799, 21), M )\n",
    "(( 1.6876845881843, 85.616829192322, 27), M )\n",
    "(( 1.5472705508274, 64.474350365634, 23), W )\n",
    "(( 1.558229415357, 80.382011318379, 21), W )\n",
    "(( 1.6242189230632, 69.567339939973, 28), W )\n",
    "(( 1.8215645865237, 78.163631826626, 22), W )\n",
    "(( 1.6984142478298, 69.884030497097, 26), M )\n",
    "(( 1.6468551415123, 82.666468220128, 29), M )\n",
    "(( 1.5727791290292, 75.545348033094, 24), M )\n",
    "(( 1.8086593470477, 78.093913654921, 27), M )\n",
    "(( 1.613966988578, 76.083586505149, 23), W )\n",
    "(( 1.6603990297076, 70.539053122611, 24), M )\n",
    "(( 1.6737443242383, 66.042005829182, 28), W )\n",
    "(( 1.6824912337281, 81.061984274536, 29), M )\n",
    "(( 1.5301691510101, 77.26547501308, 22), M )\n",
    "(( 1.7392340943261, 92.752488433153, 24), M )\n",
    "(( 1.6427105169884, 83.322790265985, 30), M )\n",
    "(( 1.5889040551166, 74.848224733663, 25), W )\n",
    "(( 1.5051718284868, 80.078271153645, 31), W )\n",
    "(( 1.729420786579, 81.936423109142, 26), M )\n",
    "(( 1.7352568354092, 85.497712687992, 19), M )\n",
    "(( 1.5056950011245, 73.726557750383, 24), W )\n",
    "(( 1.772404089054, 75.534265951718, 30), M )\n",
    "(( 1.5212346939173, 74.355845722315, 29), W )\n",
    "(( 1.8184515409355, 85.705767969326, 25), M )\n",
    "(( 1.7307897479464, 84.277029918205, 28), W )\n",
    "(( 1.6372690389158, 72.289040612489, 27), M )\n",
    "(( 1.6856953072545, 70.406532419182, 28), W )\n",
    "(( 1.832494802635, 81.627925524191, 27), M )\n",
    "(( 1.5061197864796, 85.886760677468, 31), W )\n",
    "(( 1.5970906671458, 71.755566818152, 27), W )\n",
    "(( 1.6780459059283, 78.900587239209, 25), W )\n",
    "(( 1.6356901170146, 84.066566323977, 21), W )\n",
    "(( 1.6085494116591, 70.950456539016, 30), M )\n",
    "(( 1.5873479102442, 77.558144903338, 25), M )\n",
    "(( 1.7542078120838, 75.3117550236, 26), M )\n",
    "(( 1.642417315747, 67.97377818999, 31), W )\n",
    "(( 1.5744266340913, 81.767568318602, 23), M )\n",
    "(( 1.8470601407979, 68.606183538532, 30), W )\n",
    "(( 1.7119387468283, 80.560922353487, 27), W )\n",
    "(( 1.6169930563306, 75.538611935125, 27), M )\n",
    "(( 1.6355653058986, 78.49626023408, 24), M )\n",
    "(( 1.6035395957618, 79.226052358485, 33), M )\n",
    "(( 1.662787957279, 76.865925681154, 25), M )\n",
    "(( 1.5889291137091, 76.548543553914, 28), W )\n",
    "(( 1.9058127964477, 82.56539915922, 25), M )\n",
    "(( 1.694633493614, 62.870480634419, 21), W )\n",
    "(( 1.7635692396034, 82.479783004684, 27), M )\n",
    "(( 1.6645292231449, 75.838104636904, 29), W )\n",
    "(( 1.7201968406129, 81.134689293557, 24), W )\n",
    "(( 1.5775563651749, 65.920103519266, 24), W )\n",
    "(( 1.6521294216004, 83.312640709417, 28), M )\n",
    "(( 1.5597501915973, 76.475667826389, 30), W )\n",
    "(( 1.7847561120027, 83.363676219109, 29), M )\n",
    "(( 1.6765690500715, 73.98959022721, 23), M )\n",
    "(( 1.6749260607992, 73.687015573315, 27), W )\n",
    "(( 1.58582362825, 71.713707691505, 28), M )\n",
    "(( 1.5893375739649, 74.248033504548, 27), W )\n",
    "(( 1.6084440045081, 71.126430164213, 27), W )\n",
    "(( 1.6048804804343, 82.049319162211, 26), W )\n",
    "(( 1.5774196609804, 70.878214496062, 24), W )\n",
    "(( 1.6799586185525, 75.649534976838, 29), W )\n",
    "(( 1.7315642636281, 92.12183674186, 29), M )\n",
    "(( 1.5563282000349, 69.312673560451, 32), W )\n",
    "(( 1.7784349641893, 83.464562543, 26), M )\n",
    "(( 1.7270244609765, 76.599791001341, 22), W )\n",
    "(( 1.6372540837311, 74.746741127229, 30), W )\n",
    "(( 1.582550559056, 73.440027907722, 23), W )\n",
    "(( 1.722864383186, 79.37821152354, 20), W )\n",
    "(( 1.5247544081009, 70.601290492141, 27), W )\n",
    "(( 1.580858666774, 70.146982323579, 24), W )\n",
    "(( 1.703343390074, 90.153276095421, 22), W )\n",
    "(( 1.5339948635367, 59.675627532338, 25), W )\n",
    "(( 1.8095306490733, 86.001187990639, 20), M )\n",
    "(( 1.7454786971676, 85.212429336602, 22), M )\n",
    "(( 1.6343303342105, 85.46378358014, 32), M )\n",
    "(( 1.5983479173071, 79.323905480504, 27), W )\"\"\""
   ]
  },
  {
   "cell_type": "code",
   "execution_count": 2,
   "metadata": {
    "id": "w5UejolBAsGN"
   },
   "outputs": [],
   "source": [
    "# importing pandas \n",
    "import pandas as pd\n",
    "\n",
    "# importing numpy\n",
    "import numpy as np\n",
    "\n",
    "# importing warnings library to ignore warnings \n",
    "import warnings\n",
    "warnings.filterwarnings('ignore')\n",
    "\n",
    "# importing metrices\n",
    "from sklearn import metrics\n",
    "\n",
    "# importing Gaussian NB\n",
    "from sklearn.naive_bayes import GaussianNB\n",
    "\n",
    "# importing KNN\n",
    "from sklearn.neighbors import KNeighborsClassifier  \n",
    "\n",
    "# importing Math\n",
    "import math"
   ]
  },
  {
   "cell_type": "code",
   "execution_count": 3,
   "metadata": {
    "id": "9TaINPuXAq11"
   },
   "outputs": [],
   "source": [
    "# Converting all the raw data into list of string \n",
    "Train_Data = Train_Data.split(\"\\n\")\n",
    "Program_Data = Program_Data.split(\"\\n\")\n",
    "Test_Data = Test_Data.split(\"\\n\")"
   ]
  },
  {
   "cell_type": "code",
   "execution_count": 4,
   "metadata": {
    "id": "lKVY2GYhApel"
   },
   "outputs": [],
   "source": [
    "# Breaking strings into data particulars\n",
    "for x in range(len(Train_Data)):\n",
    "    Temp_data = Train_Data[x].replace(\" \",\"\").replace(\"(\", \"\").replace(\")\", \"\")\n",
    "    Temp_data = Temp_data.split(\",\")\n",
    "    Train_Data[x] = list([float(Temp_data[0]), float(Temp_data[1]), int(Temp_data[2]), Temp_data[3]])\n",
    "for x in range(len(Program_Data)):\n",
    "    Temp_data = Program_Data[x].replace(\" \",\"\").replace(\"(\", \"\").replace(\")\", \"\")\n",
    "    Temp_data = Temp_data.split(\",\")\n",
    "    Program_Data[x] = list([float(Temp_data[0]), float(Temp_data[1]), int(Temp_data[2]), Temp_data[3]])\n",
    "for x in range(len(Test_Data)):\n",
    "    Temp_data = Test_Data[x].replace(\" \",\"\").replace(\"(\", \"\").replace(\")\", \"\")\n",
    "    Temp_data = Temp_data.split(\",\")\n",
    "    Test_Data[x] = list([float(Temp_data[0]), float(Temp_data[1]), int(Temp_data[2])])"
   ]
  },
  {
   "cell_type": "code",
   "execution_count": 5,
   "metadata": {
    "id": "Ghq8W1ZnAodO"
   },
   "outputs": [],
   "source": [
    "# Framing dataframes from all these lists\n",
    "DataFrame_Program_Data = pd.DataFrame(Program_Data, columns = ['Height','Weight','Age','Gender'])\n",
    "DataFrame_Train_Data = pd.DataFrame(Train_Data, columns = ['Height','Weight','Age','Gender'])\n",
    "DataFrame_Test_Data = pd.DataFrame(Test_Data, columns = ['Height','Weight','Age'])"
   ]
  },
  {
   "cell_type": "code",
   "execution_count": 6,
   "metadata": {
    "id": "ucOrIHgwAmo9"
   },
   "outputs": [],
   "source": [
    "# seprarting features and labels from these dataframes\n",
    "DataFrame_Program_Data_Features = DataFrame_Program_Data[['Height','Weight','Age']]\n",
    "DataFrame_Program_Data_Labels = DataFrame_Program_Data['Gender']\n",
    "DataFrame_Test_Data_Features = DataFrame_Test_Data[['Height','Weight','Age']]\n",
    "DataFrame_Train_Data_Features = DataFrame_Train_Data[['Height','Weight','Age']]\n",
    "DataFrame_Train_Data_Labels = DataFrame_Train_Data['Gender']"
   ]
  },
  {
   "cell_type": "code",
   "execution_count": 7,
   "metadata": {
    "id": "RTHd60o8Af03"
   },
   "outputs": [],
   "source": [
    "\"\"\" KNN Model for all types of distances - Cartesian distance, Manhattan distance and Minkowski distance\"\"\"\n",
    "\n",
    "# class for KNN model\n",
    "class KNN_Model():\n",
    "    \n",
    "    # default function\n",
    "    def __init__(self, Signal):\n",
    "        self.Signal = Signal\n",
    "    \n",
    "    # function to calculate Minkowski_Distance\n",
    "    def Calculating_Minkowski_Distance(self, Main_Value_One, Main_Value_Two):\n",
    "        p = 2\n",
    "        Instance_Distance = 0.0\n",
    "        for Value_One, Value_Two in zip(Main_Value_One, Main_Value_Two):\n",
    "            Instance_Distance += abs(Value_One-Value_Two)**p\n",
    "        Final_Distance = math.sqrt(Instance_Distance)\n",
    "        return Final_Distance\n",
    "\n",
    "    # function to calculate Manhattan_Distance\n",
    "    def Calculating_Manhattan_Distance(self,Value_One, Value_Two):\n",
    "        Instance_Distance = 0.0\n",
    "        for Point_One, Point_Two in zip(Value_One, Value_Two):\n",
    "            Instance_Distance += abs( Point_One - Point_Two )\n",
    "        Final_Distance = math.sqrt(Instance_Distance)\n",
    "        return Final_Distance\n",
    "    \n",
    "    # function to calculate Euclidean_Distance\n",
    "    def Calculating_Euclidean_Distance(self,Value_One, Value_Two):\n",
    "        Instance_Distance = 0.0\n",
    "        for i in range(len(Value_One) - 1):\n",
    "            Instance_Distance += (Value_One[i] - Value_Two[i]) ** 2\n",
    "        Final_Distance = math.sqrt(Instance_Distance)\n",
    "        return Final_Distance\n",
    "    \n",
    "    # find distance\n",
    "    def Calculate_DIstance(self, Value_One, Value_Two, Signal):\n",
    "        distance = 0.0\n",
    "        if Signal == 'Minkowski_Distance':\n",
    "            distance = self.Calculating_Minkowski_Distance(Value_One, Value_Two)\n",
    "        elif Signal == 'Manhattan_Distance':\n",
    "            distance = self.Calculating_Manhattan_Distance(Value_One, Value_Two)\n",
    "        else:\n",
    "            distance = self.Calculating_Euclidean_Distance(Value_One, Value_Two)\n",
    "        return distance\n",
    "    \n",
    "    # functiopn to find neighbors\n",
    "    def Find_Neighbors(self,Features_Train, Labels_Train, test_row, n_neighbors):\n",
    "        Features_Train = Features_Train.values\n",
    "        Labels_Train = Labels_Train.values\n",
    "        List_Of_Distances = list()\n",
    "        for x, y in zip(Features_Train, Labels_Train):\n",
    "            Instance_Distance = self.Calculate_DIstance(x, test_row, self.Signal)\n",
    "            List_Of_Distances.append([x, Instance_Distance, y])\n",
    "        List_Of_Distances = sorted(List_Of_Distances, key=lambda dist: dist[1])\n",
    "        return List_Of_Distances[:n_neighbors]\n",
    "    \n",
    "    # function to get final predictions\n",
    "    def Get_Final_Predictions(self,Features_Train, Labels_Train, test_row, n_neighbors):\n",
    "        Temp_Nei_One = self.Find_Neighbors(Features_Train, Labels_Train, test_row, n_neighbors)\n",
    "        Temp_Nei_Two = [neighbor[-1] for neighbor in Temp_Nei_One]\n",
    "        Instance_Predictions = max(set(Temp_Nei_Two), key=Temp_Nei_Two.count)\n",
    "        return Instance_Predictions\n",
    "    \n",
    "    # function to run complete class\n",
    "    def Fit_And_Predict(self,Features_Train, Labels_Train, Features_Test, n_neighbors):\n",
    "        List_Of_Final_Predictions = []\n",
    "        for x in Features_Test.values:\n",
    "            Instance_Predictions = self.Get_Final_Predictions(Features_Train, Labels_Train, x, n_neighbors)\n",
    "            List_Of_Final_Predictions.append(Instance_Predictions)\n",
    "        return List_Of_Final_Predictions"
   ]
  },
  {
   "cell_type": "code",
   "execution_count": 8,
   "metadata": {
    "colab": {
     "base_uri": "https://localhost:8080/"
    },
    "id": "1v1Yun9JAedV",
    "outputId": "d390c15d-0433-4652-86bb-461dff57821c"
   },
   "outputs": [
    {
     "name": "stdout",
     "output_type": "stream",
     "text": [
      "- - - - - - - - - - - - - - - - - - - - - - - - - - - - - - - - - - - - - -\n",
      "KNN Model - Including 'Euclidean_Distance', 'Minkowski_Distance', 'Manhattan_Distance'\n",
      "\n",
      "Input - Height, Weight, Age\n",
      "Output - Gender\n",
      "\n",
      "Training Data - Program_Data\n",
      "Testing Data - Train_Data\n",
      "\n",
      "\n",
      "Neighbors -> 1\n",
      "Euclidean_Distance - Accuracy -> 71.42857142857143\n",
      "Minkowski_Distance - Accuracy -> 64.28571428571429\n",
      "Manhattan_Distance - Accuracy -> 71.42857142857143\n",
      "\n",
      "Neighbors -> 2\n",
      "Euclidean_Distance - Accuracy -> 71.42857142857143\n",
      "Minkowski_Distance - Accuracy -> 64.28571428571429\n",
      "Manhattan_Distance - Accuracy -> 71.42857142857143\n",
      "\n",
      "Neighbors -> 3\n",
      "Euclidean_Distance - Accuracy -> 64.28571428571429\n",
      "Minkowski_Distance - Accuracy -> 64.28571428571429\n",
      "Manhattan_Distance - Accuracy -> 64.28571428571429\n",
      "\n",
      "Neighbors -> 4\n",
      "Euclidean_Distance - Accuracy -> 64.28571428571429\n",
      "Minkowski_Distance - Accuracy -> 57.14285714285714\n",
      "Manhattan_Distance - Accuracy -> 64.28571428571429\n",
      "\n",
      "Neighbors -> 5\n",
      "Euclidean_Distance - Accuracy -> 71.42857142857143\n",
      "Minkowski_Distance - Accuracy -> 57.14285714285714\n",
      "Manhattan_Distance - Accuracy -> 57.14285714285714\n",
      "\n",
      "Neighbors -> 6\n",
      "Euclidean_Distance - Accuracy -> 64.28571428571429\n",
      "Minkowski_Distance - Accuracy -> 64.28571428571429\n",
      "Manhattan_Distance - Accuracy -> 57.14285714285714\n",
      "\n",
      "Neighbors -> 7\n",
      "Euclidean_Distance - Accuracy -> 71.42857142857143\n",
      "Minkowski_Distance - Accuracy -> 57.14285714285714\n",
      "Manhattan_Distance - Accuracy -> 57.14285714285714\n",
      "\n",
      "Neighbors -> 8\n",
      "Euclidean_Distance - Accuracy -> 71.42857142857143\n",
      "Minkowski_Distance - Accuracy -> 57.14285714285714\n",
      "Manhattan_Distance - Accuracy -> 57.14285714285714\n",
      "\n",
      "Neighbors -> 9\n",
      "Euclidean_Distance - Accuracy -> 71.42857142857143\n",
      "Minkowski_Distance - Accuracy -> 57.14285714285714\n",
      "Manhattan_Distance - Accuracy -> 57.14285714285714\n",
      "\n",
      "Neighbors -> 10\n",
      "Euclidean_Distance - Accuracy -> 71.42857142857143\n",
      "Minkowski_Distance - Accuracy -> 57.14285714285714\n",
      "Manhattan_Distance - Accuracy -> 57.14285714285714\n",
      "\n",
      "Neighbors -> 11\n",
      "Euclidean_Distance - Accuracy -> 71.42857142857143\n",
      "Minkowski_Distance - Accuracy -> 57.14285714285714\n",
      "Manhattan_Distance - Accuracy -> 57.14285714285714\n",
      "- - - - - - - - - - - - - - - - - - - - - - - - - - - - - - - - - - - - - -\n"
     ]
    }
   ],
   "source": [
    "print(\"- - - - - - - - - - - - - - - - - - - - - - - - - - - - - - - - - - - - - -\")\n",
    "print(\"KNN Model - Including 'Euclidean_Distance', 'Minkowski_Distance', 'Manhattan_Distance'\")\n",
    "print()\n",
    "print(\"Input - Height, Weight, Age\")\n",
    "print(\"Output - Gender\")\n",
    "print()\n",
    "print(\"Training Data - Program_Data\")\n",
    "print(\"Testing Data - Train_Data\")\n",
    "print()\n",
    "n_neighbors = range(1,12)\n",
    "for i in n_neighbors:\n",
    "    print()\n",
    "    print(\"Neighbors ->\", i)\n",
    "    List_One = [ 'Euclidean_Distance', 'Minkowski_Distance', 'Manhattan_Distance']\n",
    "    for x in range(len(List_One)):\n",
    "        print(List_One[x],end=\"\")\n",
    "        # proposed model run\n",
    "        Proposed_Model = KNN_Model(List_One[x])\n",
    "        Proposed_Model_Predictions = Proposed_Model.Fit_And_Predict(DataFrame_Program_Data_Features, DataFrame_Program_Data_Labels, DataFrame_Train_Data_Features, i)\n",
    "        Proposed_Accuracy = metrics.accuracy_score(DataFrame_Train_Data_Labels, Proposed_Model_Predictions)\n",
    "        print(\" - Accuracy ->\",Proposed_Accuracy*100)\n",
    "print(\"- - - - - - - - - - - - - - - - - - - - - - - - - - - - - - - - - - - - - -\")"
   ]
  },
  {
   "cell_type": "code",
   "execution_count": 9,
   "metadata": {
    "id": "zu3nLcqpAdD9"
   },
   "outputs": [],
   "source": [
    "\"\"\" Part 1 (B-D) \"\"\"\n",
    "# class for KNN model\n",
    "class KNN_Model():\n",
    "    \n",
    "    # function to calculate Euclidean_Distance\n",
    "    def Calculating_Euclidean_Distance(self,Value_One, Value_Two):\n",
    "        Instance_Distance = 0.0\n",
    "        for i in range(len(Value_One) - 1):\n",
    "            Instance_Distance += (Value_One[i] - Value_Two[i]) ** 2\n",
    "        Final_Distance = math.sqrt(Instance_Distance)\n",
    "        return Final_Distance\n",
    "    \n",
    "    # functiopn to find neighbors\n",
    "    def Find_Neighbors(self,Features_Train, Labels_Train, test_row, n_neighbors):\n",
    "        Features_Train = Features_Train.values\n",
    "        Labels_Train = Labels_Train.values\n",
    "        List_Of_Distances = list()\n",
    "        for x, y in zip(Features_Train, Labels_Train):\n",
    "            Instance_Distance = self.Calculating_Euclidean_Distance(x, test_row)\n",
    "            List_Of_Distances.append([x, Instance_Distance, y])\n",
    "        List_Of_Distances = sorted(List_Of_Distances, key=lambda dist: dist[1])\n",
    "        return List_Of_Distances[:n_neighbors]\n",
    "    \n",
    "    # function to get final predictions\n",
    "    def Get_Final_Predictions(self,Features_Train, Labels_Train, test_row, n_neighbors):\n",
    "        Temp_Nei_One = self.Find_Neighbors(Features_Train, Labels_Train, test_row, n_neighbors)\n",
    "        Temp_Nei_Two = [neighbor[-1] for neighbor in Temp_Nei_One]\n",
    "        Instance_Predictions = max(set(Temp_Nei_Two), key=Temp_Nei_Two.count)\n",
    "        return Instance_Predictions\n",
    "    \n",
    "    # function to run complete class\n",
    "    def Fit_And_Predict(self,Features_Train, Labels_Train, Features_Test, n_neighbors):\n",
    "        List_Of_Final_Predictions = []\n",
    "        for x in Features_Test.values:\n",
    "            Instance_Predictions = self.Get_Final_Predictions(Features_Train, Labels_Train, x, n_neighbors)\n",
    "            List_Of_Final_Predictions.append(Instance_Predictions)\n",
    "        return List_Of_Final_Predictions"
   ]
  },
  {
   "cell_type": "code",
   "execution_count": 10,
   "metadata": {
    "colab": {
     "base_uri": "https://localhost:8080/"
    },
    "id": "8NezMtdRAbSV",
    "outputId": "4ee719af-74ce-49ac-d36a-e940f3d4ed44"
   },
   "outputs": [
    {
     "name": "stdout",
     "output_type": "stream",
     "text": [
      "- - - - - - - - - - - - - - - - - - - - - - - - - - - - - - - - - - - - - -\n",
      "Part B\n",
      "KNN Model\n",
      "\n",
      "Predictions of Test data (When Model trained on Train_Data) -\n",
      "\n",
      "Neighbors -> 1\n",
      "Predictions -> ['W', 'W', 'W', 'W']\n",
      "Neighbors -> 2\n",
      "Predictions -> ['W', 'W', 'W', 'W']\n",
      "Neighbors -> 3\n",
      "Predictions -> ['W', 'W', 'W', 'W']\n",
      "Neighbors -> 4\n",
      "Predictions -> ['W', 'W', 'W', 'W']\n",
      "Neighbors -> 5\n",
      "Predictions -> ['W', 'M', 'W', 'W']\n",
      "Neighbors -> 6\n",
      "Predictions -> ['W', 'M', 'W', 'W']\n",
      "Neighbors -> 7\n",
      "Predictions -> ['W', 'M', 'W', 'W']\n",
      "Neighbors -> 8\n",
      "Predictions -> ['W', 'M', 'W', 'W']\n",
      "Neighbors -> 9\n",
      "Predictions -> ['W', 'M', 'W', 'W']\n",
      "Neighbors -> 10\n",
      "Predictions -> ['W', 'M', 'W', 'W']\n",
      "Neighbors -> 11\n",
      "Predictions -> ['W', 'M', 'W', 'W']\n",
      "- - - - - - - - - - - - - - - - - - - - - - - - - - - - - - - - - - - - - -\n"
     ]
    }
   ],
   "source": [
    "\"\"\" Target 1 \"\"\"\n",
    "print(\"- - - - - - - - - - - - - - - - - - - - - - - - - - - - - - - - - - - - - -\")\n",
    "print(\"Part B\")\n",
    "print(\"KNN Model\")\n",
    "print()\n",
    "print(\"Predictions of Test data (When Model trained on Train_Data) -\")\n",
    "print()\n",
    "n_neighbors = range(1,12)\n",
    "for i in n_neighbors:\n",
    "    print(\"Neighbors ->\", i)\n",
    "    # proposed model run\n",
    "    Proposed_Model = KNN_Model()\n",
    "    Proposed_Model_Predictions = Proposed_Model.Fit_And_Predict(DataFrame_Train_Data_Features, DataFrame_Train_Data_Labels, DataFrame_Test_Data_Features, i)\n",
    "    print(\"Predictions ->\",Proposed_Model_Predictions)\n",
    "print(\"- - - - - - - - - - - - - - - - - - - - - - - - - - - - - - - - - - - - - -\")"
   ]
  },
  {
   "cell_type": "code",
   "execution_count": 11,
   "metadata": {
    "colab": {
     "base_uri": "https://localhost:8080/"
    },
    "id": "9F7Csr9jAaO1",
    "outputId": "e1363901-d220-4756-831d-bd811e1b92c0"
   },
   "outputs": [
    {
     "name": "stdout",
     "output_type": "stream",
     "text": [
      "- - - - - - - - - - - - - - - - - - - - - - - - - - - - - - - - - - - - - -\n",
      "Batch 1\n",
      "KNN Model\n",
      "\n",
      "Input - Height, Weight, Age\n",
      "Output - Gender\n",
      "\n",
      "Training Data - Train_Data\n",
      "Testing Data - Program_Data\n",
      "\n",
      "Neighbors -> 1\n",
      "Proposed Model Accuracy -> 51.66666666666667\n",
      "Standard Model Accuracy -> 58.333333333333336\n",
      "Neighbors -> 2\n",
      "Proposed Model Accuracy -> 51.66666666666667\n",
      "Standard Model Accuracy -> 51.66666666666667\n",
      "Neighbors -> 3\n",
      "Proposed Model Accuracy -> 61.66666666666667\n",
      "Standard Model Accuracy -> 60.0\n",
      "Neighbors -> 4\n",
      "Proposed Model Accuracy -> 57.49999999999999\n",
      "Standard Model Accuracy -> 56.666666666666664\n",
      "Neighbors -> 5\n",
      "Proposed Model Accuracy -> 57.49999999999999\n",
      "Standard Model Accuracy -> 60.0\n",
      "Neighbors -> 6\n",
      "Proposed Model Accuracy -> 58.333333333333336\n",
      "Standard Model Accuracy -> 59.166666666666664\n",
      "Neighbors -> 7\n",
      "Proposed Model Accuracy -> 58.333333333333336\n",
      "Standard Model Accuracy -> 59.166666666666664\n",
      "Neighbors -> 8\n",
      "Proposed Model Accuracy -> 59.166666666666664\n",
      "Standard Model Accuracy -> 58.333333333333336\n",
      "Neighbors -> 9\n",
      "Proposed Model Accuracy -> 57.49999999999999\n",
      "Standard Model Accuracy -> 57.49999999999999\n",
      "Neighbors -> 10\n",
      "Proposed Model Accuracy -> 58.333333333333336\n",
      "Standard Model Accuracy -> 55.00000000000001\n",
      "Neighbors -> 11\n",
      "Proposed Model Accuracy -> 57.49999999999999\n",
      "Standard Model Accuracy -> 55.833333333333336\n",
      "- - - - - - - - - - - - - - - - - - - - - - - - - - - - - - - - - - - - - -\n"
     ]
    }
   ],
   "source": [
    "\"\"\" Target 2 \"\"\"\n",
    "print(\"- - - - - - - - - - - - - - - - - - - - - - - - - - - - - - - - - - - - - -\")\n",
    "print(\"Batch 1\")\n",
    "print(\"KNN Model\")\n",
    "print()\n",
    "print(\"Input - Height, Weight, Age\")\n",
    "print(\"Output - Gender\")\n",
    "print()\n",
    "print(\"Training Data - Train_Data\")\n",
    "print(\"Testing Data - Program_Data\")\n",
    "print()\n",
    "n_neighbors = range(1,12)\n",
    "for i in n_neighbors:\n",
    "    print(\"Neighbors ->\", i)\n",
    "    # proposed model run\n",
    "    Proposed_Model = KNN_Model()\n",
    "    Proposed_Model_Predictions = Proposed_Model.Fit_And_Predict(DataFrame_Train_Data_Features, DataFrame_Train_Data_Labels, DataFrame_Program_Data_Features, i)\n",
    "    Proposed_Accuracy = metrics.accuracy_score(DataFrame_Program_Data_Labels, Proposed_Model_Predictions)\n",
    "    print(\"Proposed Model Accuracy ->\",Proposed_Accuracy*100)\n",
    "    # Standard Model Run\n",
    "    Standard_Model = KNeighborsClassifier(n_neighbors=i, metric='euclidean', p=2 )  \n",
    "    Standard_Model.fit(DataFrame_Train_Data_Features, DataFrame_Train_Data_Labels)  \n",
    "    Standard_Model_Predictions = Standard_Model.predict(DataFrame_Program_Data_Features)\n",
    "    Standard_Accuracy = metrics.accuracy_score(DataFrame_Program_Data_Labels, Standard_Model_Predictions)\n",
    "    print(\"Standard Model Accuracy ->\",Standard_Accuracy*100)\n",
    "print(\"- - - - - - - - - - - - - - - - - - - - - - - - - - - - - - - - - - - - - -\")"
   ]
  },
  {
   "cell_type": "code",
   "execution_count": 12,
   "metadata": {
    "colab": {
     "base_uri": "https://localhost:8080/"
    },
    "id": "TJeLQEnpAYDc",
    "outputId": "8589db4e-965e-4129-82b7-ebb3def646e9"
   },
   "outputs": [
    {
     "name": "stdout",
     "output_type": "stream",
     "text": [
      "- - - - - - - - - - - - - - - - - - - - - - - - - - - - - - - - - - - - - -\n",
      "Batch 2\n",
      "KNN Model\n",
      "\n",
      "Input - Height, Weight, Age\n",
      "Output - Gender\n",
      "\n",
      "Training Data - Program_Data\n",
      "Testing Data - Train_Data\n",
      "\n",
      "Neighbors -> 1\n",
      "Proposed Model Accuracy -> 71.42857142857143\n",
      "Standard Model Accuracy -> 64.28571428571429\n",
      "Neighbors -> 2\n",
      "Proposed Model Accuracy -> 71.42857142857143\n",
      "Standard Model Accuracy -> 85.71428571428571\n",
      "Neighbors -> 3\n",
      "Proposed Model Accuracy -> 64.28571428571429\n",
      "Standard Model Accuracy -> 64.28571428571429\n",
      "Neighbors -> 4\n",
      "Proposed Model Accuracy -> 64.28571428571429\n",
      "Standard Model Accuracy -> 64.28571428571429\n",
      "Neighbors -> 5\n",
      "Proposed Model Accuracy -> 71.42857142857143\n",
      "Standard Model Accuracy -> 57.14285714285714\n",
      "Neighbors -> 6\n",
      "Proposed Model Accuracy -> 64.28571428571429\n",
      "Standard Model Accuracy -> 64.28571428571429\n",
      "Neighbors -> 7\n",
      "Proposed Model Accuracy -> 71.42857142857143\n",
      "Standard Model Accuracy -> 57.14285714285714\n",
      "Neighbors -> 8\n",
      "Proposed Model Accuracy -> 71.42857142857143\n",
      "Standard Model Accuracy -> 57.14285714285714\n",
      "Neighbors -> 9\n",
      "Proposed Model Accuracy -> 71.42857142857143\n",
      "Standard Model Accuracy -> 57.14285714285714\n",
      "Neighbors -> 10\n",
      "Proposed Model Accuracy -> 71.42857142857143\n",
      "Standard Model Accuracy -> 57.14285714285714\n",
      "Neighbors -> 11\n",
      "Proposed Model Accuracy -> 71.42857142857143\n",
      "Standard Model Accuracy -> 57.14285714285714\n",
      "- - - - - - - - - - - - - - - - - - - - - - - - - - - - - - - - - - - - - -\n"
     ]
    }
   ],
   "source": [
    "\"\"\" Target 3 \"\"\"\n",
    "print(\"- - - - - - - - - - - - - - - - - - - - - - - - - - - - - - - - - - - - - -\")\n",
    "print(\"Batch 2\")\n",
    "print(\"KNN Model\")\n",
    "print()\n",
    "print(\"Input - Height, Weight, Age\")\n",
    "print(\"Output - Gender\")\n",
    "print()\n",
    "print(\"Training Data - Program_Data\")\n",
    "print(\"Testing Data - Train_Data\")\n",
    "print()\n",
    "n_neighbors = range(1,12)\n",
    "for i in n_neighbors:\n",
    "    print(\"Neighbors ->\", i)\n",
    "    # proposed model run\n",
    "    Proposed_Model = KNN_Model()\n",
    "    Proposed_Model_Predictions = Proposed_Model.Fit_And_Predict(DataFrame_Program_Data_Features, DataFrame_Program_Data_Labels, DataFrame_Train_Data_Features, i)\n",
    "    Proposed_Accuracy = metrics.accuracy_score(DataFrame_Train_Data_Labels, Proposed_Model_Predictions)\n",
    "    print(\"Proposed Model Accuracy ->\",Proposed_Accuracy*100)\n",
    "    # Standard Model Run\n",
    "    Standard_Model = KNeighborsClassifier(n_neighbors=i, metric='euclidean', p=2 )  \n",
    "    Standard_Model.fit(DataFrame_Program_Data_Features, DataFrame_Program_Data_Labels)  \n",
    "    Standard_Model_Predictions = Standard_Model.predict(DataFrame_Train_Data_Features)\n",
    "    Standard_Accuracy = metrics.accuracy_score(DataFrame_Train_Data_Labels, Standard_Model_Predictions)\n",
    "    print(\"Standard Model Accuracy ->\",Standard_Accuracy*100)\n",
    "print(\"- - - - - - - - - - - - - - - - - - - - - - - - - - - - - - - - - - - - - -\")"
   ]
  },
  {
   "cell_type": "code",
   "execution_count": 13,
   "metadata": {
    "colab": {
     "base_uri": "https://localhost:8080/"
    },
    "id": "tcYXuIwmAWWV",
    "outputId": "7c005561-3742-4a58-8c2c-fbd8e199346f"
   },
   "outputs": [
    {
     "name": "stdout",
     "output_type": "stream",
     "text": [
      "- - - - - - - - - - - - - - - - - - - - - - - - - - - - - - - - - - - - - -\n",
      "Batch 3\n",
      "KNN Model\n",
      "\n",
      "Input - Height, Weight\n",
      "Output - Gender\n",
      "\n",
      "Training Data - Train_Data\n",
      "Testing Data - Program_Data\n",
      "\n",
      "Neighbors -> 1\n",
      "Proposed Model Accuracy -> 69.16666666666667\n",
      "Standard Model Accuracy -> 51.66666666666667\n",
      "Neighbors -> 2\n",
      "Proposed Model Accuracy -> 69.16666666666667\n",
      "Standard Model Accuracy -> 51.66666666666667\n",
      "Neighbors -> 3\n",
      "Proposed Model Accuracy -> 69.16666666666667\n",
      "Standard Model Accuracy -> 61.66666666666667\n",
      "Neighbors -> 4\n",
      "Proposed Model Accuracy -> 68.33333333333333\n",
      "Standard Model Accuracy -> 56.666666666666664\n",
      "Neighbors -> 5\n",
      "Proposed Model Accuracy -> 65.83333333333333\n",
      "Standard Model Accuracy -> 57.49999999999999\n",
      "Neighbors -> 6\n",
      "Proposed Model Accuracy -> 65.83333333333333\n",
      "Standard Model Accuracy -> 57.49999999999999\n",
      "Neighbors -> 7\n",
      "Proposed Model Accuracy -> 66.66666666666666\n",
      "Standard Model Accuracy -> 58.333333333333336\n",
      "Neighbors -> 8\n",
      "Proposed Model Accuracy -> 65.0\n",
      "Standard Model Accuracy -> 57.49999999999999\n",
      "Neighbors -> 9\n",
      "Proposed Model Accuracy -> 65.83333333333333\n",
      "Standard Model Accuracy -> 57.49999999999999\n",
      "Neighbors -> 10\n",
      "Proposed Model Accuracy -> 65.83333333333333\n",
      "Standard Model Accuracy -> 57.49999999999999\n",
      "Neighbors -> 11\n",
      "Proposed Model Accuracy -> 65.83333333333333\n",
      "Standard Model Accuracy -> 57.49999999999999\n",
      "- - - - - - - - - - - - - - - - - - - - - - - - - - - - - - - - - - - - - -\n"
     ]
    }
   ],
   "source": [
    "\"\"\" Target 4 \"\"\"\n",
    "print(\"- - - - - - - - - - - - - - - - - - - - - - - - - - - - - - - - - - - - - -\")\n",
    "print(\"Batch 3\")\n",
    "print(\"KNN Model\")\n",
    "print()\n",
    "print(\"Input - Height, Weight\")\n",
    "print(\"Output - Gender\")\n",
    "print()\n",
    "print(\"Training Data - Train_Data\")\n",
    "print(\"Testing Data - Program_Data\")\n",
    "print()\n",
    "n_neighbors = range(1,12)\n",
    "for i in n_neighbors:\n",
    "    print(\"Neighbors ->\", i)\n",
    "    # proposed model run\n",
    "    Proposed_Model = KNN_Model()\n",
    "    Proposed_Model_Predictions = Proposed_Model.Fit_And_Predict(DataFrame_Train_Data_Features.iloc[:,:-1], DataFrame_Train_Data_Labels, DataFrame_Program_Data_Features.iloc[:,:-1], i)\n",
    "    Proposed_Accuracy = metrics.accuracy_score(DataFrame_Program_Data_Labels, Proposed_Model_Predictions)\n",
    "    print(\"Proposed Model Accuracy ->\",Proposed_Accuracy*100)\n",
    "    # Standard Model Run\n",
    "    Standard_Model = KNeighborsClassifier(n_neighbors=i, metric='euclidean', p=2 )  \n",
    "    Standard_Model.fit(DataFrame_Train_Data_Features.iloc[:,:-1], DataFrame_Train_Data_Labels)  \n",
    "    Standard_Model_Predictions = Standard_Model.predict(DataFrame_Program_Data_Features.iloc[:,:-1])\n",
    "    Standard_Accuracy = metrics.accuracy_score(DataFrame_Program_Data_Labels, Standard_Model_Predictions)\n",
    "    print(\"Standard Model Accuracy ->\",Standard_Accuracy*100)\n",
    "print(\"- - - - - - - - - - - - - - - - - - - - - - - - - - - - - - - - - - - - - -\")"
   ]
  },
  {
   "cell_type": "code",
   "execution_count": 14,
   "metadata": {
    "colab": {
     "base_uri": "https://localhost:8080/"
    },
    "id": "r1EMJLYaAVL9",
    "outputId": "f0ac3f0f-ea20-4a9b-b6ed-13e9cbc133ff"
   },
   "outputs": [
    {
     "name": "stdout",
     "output_type": "stream",
     "text": [
      "- - - - - - - - - - - - - - - - - - - - - - - - - - - - - - - - - - - - - -\n",
      "Batch 4\n",
      "KNN Model\n",
      "\n",
      "Input - Height, Weight\n",
      "Output - Gender\n",
      "\n",
      "Training Data - Program_Data\n",
      "Testing Data - Train_Data\n",
      "\n",
      "Neighbors -> 1\n",
      "Proposed Model Accuracy -> 71.42857142857143\n",
      "Standard Model Accuracy -> 71.42857142857143\n",
      "Neighbors -> 2\n",
      "Proposed Model Accuracy -> 71.42857142857143\n",
      "Standard Model Accuracy -> 71.42857142857143\n",
      "Neighbors -> 3\n",
      "Proposed Model Accuracy -> 92.85714285714286\n",
      "Standard Model Accuracy -> 64.28571428571429\n",
      "Neighbors -> 4\n",
      "Proposed Model Accuracy -> 71.42857142857143\n",
      "Standard Model Accuracy -> 64.28571428571429\n",
      "Neighbors -> 5\n",
      "Proposed Model Accuracy -> 78.57142857142857\n",
      "Standard Model Accuracy -> 71.42857142857143\n",
      "Neighbors -> 6\n",
      "Proposed Model Accuracy -> 85.71428571428571\n",
      "Standard Model Accuracy -> 64.28571428571429\n",
      "Neighbors -> 7\n",
      "Proposed Model Accuracy -> 78.57142857142857\n",
      "Standard Model Accuracy -> 71.42857142857143\n",
      "Neighbors -> 8\n",
      "Proposed Model Accuracy -> 64.28571428571429\n",
      "Standard Model Accuracy -> 71.42857142857143\n",
      "Neighbors -> 9\n",
      "Proposed Model Accuracy -> 57.14285714285714\n",
      "Standard Model Accuracy -> 71.42857142857143\n",
      "Neighbors -> 10\n",
      "Proposed Model Accuracy -> 64.28571428571429\n",
      "Standard Model Accuracy -> 71.42857142857143\n",
      "Neighbors -> 11\n",
      "Proposed Model Accuracy -> 50.0\n",
      "Standard Model Accuracy -> 71.42857142857143\n",
      "- - - - - - - - - - - - - - - - - - - - - - - - - - - - - - - - - - - - - -\n"
     ]
    }
   ],
   "source": [
    "\"\"\" Target 5 \"\"\"\n",
    "print(\"- - - - - - - - - - - - - - - - - - - - - - - - - - - - - - - - - - - - - -\")\n",
    "print(\"Batch 4\")\n",
    "print(\"KNN Model\")\n",
    "print()\n",
    "print(\"Input - Height, Weight\")\n",
    "print(\"Output - Gender\")\n",
    "print()\n",
    "print(\"Training Data - Program_Data\")\n",
    "print(\"Testing Data - Train_Data\")\n",
    "print()\n",
    "n_neighbors = range(1,12)\n",
    "for i in n_neighbors:\n",
    "    print(\"Neighbors ->\", i)\n",
    "    # proposed model run\n",
    "    Proposed_Model = KNN_Model()\n",
    "    Proposed_Model_Predictions = Proposed_Model.Fit_And_Predict(DataFrame_Program_Data_Features.iloc[:,:-1], DataFrame_Program_Data_Labels, DataFrame_Train_Data_Features.iloc[:,:-1], i)\n",
    "    Proposed_Accuracy = metrics.accuracy_score(DataFrame_Train_Data_Labels, Proposed_Model_Predictions)\n",
    "    print(\"Proposed Model Accuracy ->\",Proposed_Accuracy*100)\n",
    "    # Standard Model Run\n",
    "    Standard_Model = KNeighborsClassifier(n_neighbors=i, metric='euclidean', p=2 )  \n",
    "    Standard_Model.fit(DataFrame_Program_Data_Features.iloc[:,:-1], DataFrame_Program_Data_Labels)  \n",
    "    Standard_Model_Predictions = Standard_Model.predict(DataFrame_Train_Data_Features.iloc[:,:-1])\n",
    "    Standard_Accuracy = metrics.accuracy_score(DataFrame_Train_Data_Labels, Standard_Model_Predictions)\n",
    "    print(\"Standard Model Accuracy ->\",Standard_Accuracy*100)\n",
    "print(\"- - - - - - - - - - - - - - - - - - - - - - - - - - - - - - - - - - - - - -\")"
   ]
  },
  {
   "cell_type": "code",
   "execution_count": 15,
   "metadata": {
    "id": "HdpWwAUnAR9l"
   },
   "outputs": [],
   "source": [
    "# funtion to run leave one out in KNN\n",
    "def Run_Leave_One_Out_KNN(X_Features, Y_Label, N_Count):\n",
    "    List_Of_Predictions = []\n",
    "    for x in range(len(X_Features)):\n",
    "        List_Features = [ list(y) for y in list(X_Features.values)]\n",
    "        List_Label = list(Y_Label.values)\n",
    "        Test_Feature = List_Features[x]\n",
    "        Test_Label = List_Label[x]\n",
    "        del List_Features[x]\n",
    "        del List_Label[x]\n",
    "        Train_Features = List_Features.copy()\n",
    "        Train_Label = List_Label.copy()\n",
    "        Data_Frame_Train_Features = pd.DataFrame(Train_Features)\n",
    "        Data_Frame_Train_Label = pd.Series(Train_Label)\n",
    "        Data_Frame_Test_Feature = pd.DataFrame([Test_Feature])\n",
    "        \n",
    "        # proposed model run\n",
    "        Proposed_Model = KNN_Model()\n",
    "        Proposed_Model_Predictions = Proposed_Model.Fit_And_Predict(Data_Frame_Train_Features, Data_Frame_Train_Label, Data_Frame_Test_Feature, N_Count)\n",
    "        \n",
    "        # adding data to list\n",
    "        List_Of_Predictions.append([Test_Label, Proposed_Model_Predictions[0]])\n",
    "        \n",
    "    return List_Of_Predictions"
   ]
  },
  {
   "cell_type": "code",
   "execution_count": 16,
   "metadata": {
    "colab": {
     "base_uri": "https://localhost:8080/"
    },
    "id": "7Gx2qVTgAPv3",
    "outputId": "065c0be5-5ebe-4f06-fffe-1244dbb8f980"
   },
   "outputs": [
    {
     "name": "stdout",
     "output_type": "stream",
     "text": [
      "- - - - - - - - - - - - - - - - - - - - - - - - - - - - - - - - - - - - - -\n",
      "Batch 5\n",
      "KNN Model\n",
      "\n",
      "Input - Height, Weight, Age\n",
      "Output - Gender\n",
      "\n",
      "Leave_One_Out System\n",
      "Data Used - Program_Data\n",
      "\n",
      "Neighbors-> 1 \tAccuracy -> 62.5\n",
      "Neighbors-> 2 \tAccuracy -> 62.5\n",
      "Neighbors-> 3 \tAccuracy -> 70.83333333333334\n",
      "Neighbors-> 4 \tAccuracy -> 65.0\n",
      "Neighbors-> 5 \tAccuracy -> 65.0\n",
      "Neighbors-> 6 \tAccuracy -> 60.0\n",
      "Neighbors-> 7 \tAccuracy -> 63.33333333333333\n",
      "Neighbors-> 8 \tAccuracy -> 60.83333333333333\n",
      "Neighbors-> 9 \tAccuracy -> 60.0\n",
      "Neighbors-> 10 \tAccuracy -> 58.333333333333336\n",
      "Neighbors-> 11 \tAccuracy -> 57.49999999999999\n",
      "- - - - - - - - - - - - - - - - - - - - - - - - - - - - - - - - - - - - - -\n"
     ]
    }
   ],
   "source": [
    "\"\"\" Target 6 \"\"\"\n",
    "print(\"- - - - - - - - - - - - - - - - - - - - - - - - - - - - - - - - - - - - - -\")\n",
    "print(\"Batch 5\")\n",
    "print(\"KNN Model\")\n",
    "print()\n",
    "print(\"Input - Height, Weight, Age\")\n",
    "print(\"Output - Gender\")\n",
    "print(\"\")\n",
    "print(\"Leave_One_Out System\")\n",
    "print(\"Data Used - Program_Data\")\n",
    "print(\"\")\n",
    "n_neighbors = range(1,12)\n",
    "for i in n_neighbors:\n",
    "    Temp_List = Run_Leave_One_Out_KNN(DataFrame_Program_Data_Features,DataFrame_Program_Data_Labels, i)\n",
    "    Actual_Para =  [ x[0] for x in Temp_List]\n",
    "    Predicted_Para =  [ x[1] for x in Temp_List]\n",
    "    print(\"Neighbors->\",i,\"\\tAccuracy ->\",metrics.accuracy_score(Actual_Para, Predicted_Para)*100)\n",
    "print(\"- - - - - - - - - - - - - - - - - - - - - - - - - - - - - - - - - - - - - -\")"
   ]
  },
  {
   "cell_type": "code",
   "execution_count": 17,
   "metadata": {
    "colab": {
     "base_uri": "https://localhost:8080/"
    },
    "id": "lvGP9DkjAOYc",
    "outputId": "cc5dbc1f-ad2b-4cd6-e205-b4fb86f0abfc"
   },
   "outputs": [
    {
     "name": "stdout",
     "output_type": "stream",
     "text": [
      "- - - - - - - - - - - - - - - - - - - - - - - - - - - - - - - - - - - - - -\n",
      "Batch 6\n",
      "KNN Model\n",
      "\n",
      "Input - Height, Weight, Age\n",
      "Output - Gender\n",
      "\n",
      "Leave_One_Out System\n",
      "Data Used - Train_Data\n",
      "\n",
      "Neighbors-> 1 \tAccuracy -> 85.71428571428571\n",
      "Neighbors-> 2 \tAccuracy -> 85.71428571428571\n",
      "Neighbors-> 3 \tAccuracy -> 71.42857142857143\n",
      "Neighbors-> 4 \tAccuracy -> 71.42857142857143\n",
      "Neighbors-> 5 \tAccuracy -> 78.57142857142857\n",
      "Neighbors-> 6 \tAccuracy -> 78.57142857142857\n",
      "Neighbors-> 7 \tAccuracy -> 78.57142857142857\n",
      "Neighbors-> 8 \tAccuracy -> 78.57142857142857\n",
      "Neighbors-> 9 \tAccuracy -> 78.57142857142857\n",
      "Neighbors-> 10 \tAccuracy -> 78.57142857142857\n",
      "Neighbors-> 11 \tAccuracy -> 78.57142857142857\n",
      "- - - - - - - - - - - - - - - - - - - - - - - - - - - - - - - - - - - - - -\n"
     ]
    }
   ],
   "source": [
    "\"\"\" Target 7 \"\"\"\n",
    "print(\"- - - - - - - - - - - - - - - - - - - - - - - - - - - - - - - - - - - - - -\")\n",
    "print(\"Batch 6\")\n",
    "print(\"KNN Model\")\n",
    "print()\n",
    "print(\"Input - Height, Weight, Age\")\n",
    "print(\"Output - Gender\")\n",
    "print(\"\")\n",
    "print(\"Leave_One_Out System\")\n",
    "print(\"Data Used - Train_Data\")\n",
    "print(\"\")\n",
    "n_neighbors = range(1,12)\n",
    "for i in n_neighbors:\n",
    "    Temp_List = Run_Leave_One_Out_KNN(DataFrame_Train_Data_Features,DataFrame_Train_Data_Labels, i)\n",
    "    Actual_Para =  [ x[0] for x in Temp_List]\n",
    "    Predicted_Para =  [ x[1] for x in Temp_List]\n",
    "    print(\"Neighbors->\",i,\"\\tAccuracy ->\",metrics.accuracy_score(Actual_Para, Predicted_Para)*100)\n",
    "print(\"- - - - - - - - - - - - - - - - - - - - - - - - - - - - - - - - - - - - - -\")"
   ]
  },
  {
   "cell_type": "code",
   "execution_count": 18,
   "metadata": {
    "colab": {
     "base_uri": "https://localhost:8080/"
    },
    "id": "nKaFu23YANJV",
    "outputId": "050ca9f8-d9da-41b2-b793-85411b512273"
   },
   "outputs": [
    {
     "name": "stdout",
     "output_type": "stream",
     "text": [
      "- - - - - - - - - - - - - - - - - - - - - - - - - - - - - - - - - - - - - -\n",
      "Batch 7\n",
      "KNN Model\n",
      "\n",
      "Input - Height, Weight\n",
      "Output - Gender\n",
      "\n",
      "Leave_One_Out System\n",
      "Data Used - Program_Data\n",
      "\n",
      "Neighbors-> 1 \tAccuracy -> 60.83333333333333\n",
      "Neighbors-> 2 \tAccuracy -> 60.83333333333333\n",
      "Neighbors-> 3 \tAccuracy -> 57.49999999999999\n",
      "Neighbors-> 4 \tAccuracy -> 60.0\n",
      "Neighbors-> 5 \tAccuracy -> 60.83333333333333\n",
      "Neighbors-> 6 \tAccuracy -> 58.333333333333336\n",
      "Neighbors-> 7 \tAccuracy -> 60.0\n",
      "Neighbors-> 8 \tAccuracy -> 58.333333333333336\n",
      "Neighbors-> 9 \tAccuracy -> 60.83333333333333\n",
      "Neighbors-> 10 \tAccuracy -> 60.83333333333333\n",
      "Neighbors-> 11 \tAccuracy -> 65.83333333333333\n",
      "- - - - - - - - - - - - - - - - - - - - - - - - - - - - - - - - - - - - - -\n"
     ]
    }
   ],
   "source": [
    "\"\"\" Target 8 \"\"\"\n",
    "print(\"- - - - - - - - - - - - - - - - - - - - - - - - - - - - - - - - - - - - - -\")\n",
    "print(\"Batch 7\")\n",
    "print(\"KNN Model\")\n",
    "print()\n",
    "print(\"Input - Height, Weight\")\n",
    "print(\"Output - Gender\")\n",
    "print(\"\")\n",
    "print(\"Leave_One_Out System\")\n",
    "print(\"Data Used - Program_Data\")\n",
    "print(\"\")\n",
    "n_neighbors = range(1,12)\n",
    "for i in n_neighbors:\n",
    "    Temp_List = Run_Leave_One_Out_KNN(DataFrame_Program_Data_Features.iloc[:,:-1],DataFrame_Program_Data_Labels, i)\n",
    "    Actual_Para =  [ x[0] for x in Temp_List]\n",
    "    Predicted_Para =  [ x[1] for x in Temp_List]\n",
    "    print(\"Neighbors->\",i,\"\\tAccuracy ->\",metrics.accuracy_score(Actual_Para, Predicted_Para)*100)\n",
    "print(\"- - - - - - - - - - - - - - - - - - - - - - - - - - - - - - - - - - - - - -\")"
   ]
  },
  {
   "cell_type": "code",
   "execution_count": 19,
   "metadata": {
    "colab": {
     "base_uri": "https://localhost:8080/"
    },
    "id": "AUgIinPxAL8d",
    "outputId": "f0035e04-9c0c-415e-af9f-d897bddf52a1"
   },
   "outputs": [
    {
     "name": "stdout",
     "output_type": "stream",
     "text": [
      "- - - - - - - - - - - - - - - - - - - - - - - - - - - - - - - - - - - - - -\n",
      "Batch 8\n",
      "KNN Model\n",
      "\n",
      "Input - Height, Weight\n",
      "Output - Gender\n",
      "\n",
      "Leave_One_Out System\n",
      "Data Used - Train_Data\n",
      "\n",
      "Neighbors-> 1 \tAccuracy -> 57.14285714285714\n",
      "Neighbors-> 2 \tAccuracy -> 57.14285714285714\n",
      "Neighbors-> 3 \tAccuracy -> 64.28571428571429\n",
      "Neighbors-> 4 \tAccuracy -> 64.28571428571429\n",
      "Neighbors-> 5 \tAccuracy -> 78.57142857142857\n",
      "Neighbors-> 6 \tAccuracy -> 78.57142857142857\n",
      "Neighbors-> 7 \tAccuracy -> 78.57142857142857\n",
      "Neighbors-> 8 \tAccuracy -> 78.57142857142857\n",
      "Neighbors-> 9 \tAccuracy -> 78.57142857142857\n",
      "Neighbors-> 10 \tAccuracy -> 78.57142857142857\n",
      "Neighbors-> 11 \tAccuracy -> 50.0\n",
      "- - - - - - - - - - - - - - - - - - - - - - - - - - - - - - - - - - - - - -\n"
     ]
    }
   ],
   "source": [
    "\"\"\" Target 9 \"\"\"\n",
    "print(\"- - - - - - - - - - - - - - - - - - - - - - - - - - - - - - - - - - - - - -\")\n",
    "print(\"Batch 8\")\n",
    "print(\"KNN Model\")\n",
    "print()\n",
    "print(\"Input - Height, Weight\")\n",
    "print(\"Output - Gender\")\n",
    "print(\"\")\n",
    "print(\"Leave_One_Out System\")\n",
    "print(\"Data Used - Train_Data\")\n",
    "print(\"\")\n",
    "n_neighbors = range(1,12)\n",
    "for i in n_neighbors:\n",
    "    Temp_List = Run_Leave_One_Out_KNN(DataFrame_Train_Data_Features.iloc[:,:-1],DataFrame_Train_Data_Labels, i)\n",
    "    Actual_Para =  [ x[0] for x in Temp_List]\n",
    "    Predicted_Para =  [ x[1] for x in Temp_List]\n",
    "    print(\"Neighbors->\",i,\"\\tAccuracy ->\",metrics.accuracy_score(Actual_Para, Predicted_Para)*100)\n",
    "print(\"- - - - - - - - - - - - - - - - - - - - - - - - - - - - - - - - - - - - - -\")"
   ]
  },
  {
   "cell_type": "code",
   "execution_count": 20,
   "metadata": {
    "id": "bnkRn_DlAKjN"
   },
   "outputs": [],
   "source": [
    "\"\"\" Part 2 Class \"\"\"\n",
    "# class for Naive bayes\n",
    "class Naive_Bayes_Classifier_Model():\n",
    "    \n",
    "    # function to calculate Prior Probablity\n",
    "    def Calculate_Prior_Probability(self, Instance_Features, Instance_label):\n",
    "        self.Prior_Probablity = (Instance_Features.groupby(Instance_label).apply(lambda x: len(x)) / self.Count_of_Rows).to_numpy()\n",
    "        return self.Prior_Probablity\n",
    "    \n",
    "    # function to claculate Statistics\n",
    "    def Calculate_Statistics(self, Instance_Features, Instance_label):\n",
    "        self.mean = Instance_Features.groupby(Instance_label).apply(np.mean).to_numpy()\n",
    "        self.var = Instance_Features.groupby(Instance_label).apply(np.var).to_numpy()\n",
    "        return self.mean, self.var\n",
    "    \n",
    "    # function to find the gaussian density\n",
    "    def Calculations_Gaussian_Density(self, class_idx, x):     \n",
    "        Temp_Numerator = np.exp((-1/2)*((x-(self.mean[class_idx]))**2) / (2 * (self.var[class_idx])))\n",
    "        Temp_Denominator = np.sqrt(2 * np.pi * (self.var[class_idx]))\n",
    "        return Temp_Numerator / Temp_Denominator\n",
    "    \n",
    "    # function to find Posterior_Probability\n",
    "    def Calculate_Posterior_Probability(self, x):\n",
    "        List_Of_Posterior_Values = []\n",
    "        for i in range(self.Count_of_Unique_Classes):\n",
    "            Temp_Prior_Value = np.log(self.Prior_Probablity[i]) \n",
    "            Temp_Conditional_Prob_Value = np.sum(np.log(self.Calculations_Gaussian_Density(i, x))) \n",
    "            Temp_Posterior_Value = Temp_Prior_Value + Temp_Conditional_Prob_Value\n",
    "            List_Of_Posterior_Values.append(Temp_Posterior_Value)\n",
    "        return self.Unique_Classes[np.argmax(List_Of_Posterior_Values)]\n",
    "    \n",
    "    # fitting function\n",
    "    def fit(self, Instance_Features, Instance_label):\n",
    "        self.Unique_Classes = np.unique(Instance_label)\n",
    "        self.Count_of_Unique_Classes = len(self.Unique_Classes)\n",
    "        self.Count_of_Rows = Instance_Features.shape[0]\n",
    "        self.Calculate_Statistics(Instance_Features, Instance_label)\n",
    "        self.Calculate_Prior_Probability(Instance_Features, Instance_label)\n",
    "    \n",
    "    # prediction function\n",
    "    def predict(self, Instance_Features):\n",
    "        preds = [self.Calculate_Posterior_Probability(f) for f in Instance_Features.to_numpy()]\n",
    "        return preds"
   ]
  },
  {
   "cell_type": "code",
   "execution_count": 21,
   "metadata": {
    "colab": {
     "base_uri": "https://localhost:8080/"
    },
    "id": "EyQe6lxRAI2O",
    "outputId": "cefbf064-565b-4513-942d-940370d64401"
   },
   "outputs": [
    {
     "name": "stdout",
     "output_type": "stream",
     "text": [
      "- - - - - - - - - - - - - - - - - - - - - - - - - - - - - - - - - - - - - -\n",
      "Part A\n",
      "Naive Bayes Model\n",
      "\n",
      "Predictions of Test data (When Model trained on Train_Data) -\n",
      "W\n",
      "W\n",
      "W\n",
      "W\n",
      "\n",
      "Predictions of Test data (When Model trained on Program_Data -)\n",
      "W\n",
      "W\n",
      "W\n",
      "W\n",
      "- - - - - - - - - - - - - - - - - - - - - - - - - - - - - - - - - - - - - -\n"
     ]
    }
   ],
   "source": [
    "\"\"\" Target 10 \"\"\"\n",
    "print(\"- - - - - - - - - - - - - - - - - - - - - - - - - - - - - - - - - - - - - -\")\n",
    "print(\"Part A\")\n",
    "print(\"Naive Bayes Model\")\n",
    "print()\n",
    "print(\"Predictions of Test data (When Model trained on Train_Data) -\")\n",
    "Model_One = Naive_Bayes_Classifier_Model()\n",
    "Model_One.fit(DataFrame_Train_Data_Features, DataFrame_Train_Data_Labels)\n",
    "Predicted_Train_Labels = Model_One.predict(DataFrame_Test_Data_Features)\n",
    "for x in Predicted_Train_Labels:\n",
    "    print(x)\n",
    "print()\n",
    "print(\"Predictions of Test data (When Model trained on Program_Data -)\")\n",
    "Model_One = Naive_Bayes_Classifier_Model()\n",
    "Model_One.fit(DataFrame_Program_Data_Features,DataFrame_Program_Data_Labels)\n",
    "Predicted_Train_Labels = Model_One.predict(DataFrame_Test_Data_Features)\n",
    "for x in Predicted_Train_Labels:\n",
    "    print(x)\n",
    "print(\"- - - - - - - - - - - - - - - - - - - - - - - - - - - - - - - - - - - - - -\")"
   ]
  },
  {
   "cell_type": "code",
   "execution_count": 22,
   "metadata": {
    "colab": {
     "base_uri": "https://localhost:8080/"
    },
    "id": "Gz4QXbYIAHSt",
    "outputId": "bbd37e74-6dd1-4fa0-f08a-7aee03153fca"
   },
   "outputs": [
    {
     "name": "stdout",
     "output_type": "stream",
     "text": [
      "- - - - - - - - - - - - - - - - - - - - - - - - - - - - - - - - - - - - - -\n",
      "Batch 1\n",
      "Naive Bayes Model\n",
      "\n",
      "Input - Height, Weight, Age\n",
      "Output - Gender\n",
      "\n",
      "Training Data - Program_Data\n",
      "Testing Data - Train_Data\n",
      "\n",
      "Proposed Naive Bayes: 64.28571428571429\n",
      "Standard Naive Bayes: 64.28571428571429\n",
      "- - - - - - - - - - - - - - - - - - - - - - - - - - - - - - - - - - - - - -\n"
     ]
    }
   ],
   "source": [
    "\"\"\" Target 11 \"\"\"\n",
    "print(\"- - - - - - - - - - - - - - - - - - - - - - - - - - - - - - - - - - - - - -\")\n",
    "print(\"Batch 1\")\n",
    "print(\"Naive Bayes Model\")\n",
    "print()\n",
    "print(\"Input - Height, Weight, Age\")\n",
    "print(\"Output - Gender\")\n",
    "print()\n",
    "print(\"Training Data - Program_Data\")\n",
    "print(\"Testing Data - Train_Data\")\n",
    "print()\n",
    "Model_One = Naive_Bayes_Classifier_Model()\n",
    "Model_One.fit(DataFrame_Program_Data_Features,DataFrame_Program_Data_Labels)\n",
    "Predicted_Train_Labels = Model_One.predict(DataFrame_Train_Data_Features)\n",
    "Predicted_Train_Labels_Accuracy = metrics.accuracy_score(DataFrame_Train_Data_Labels, Predicted_Train_Labels)\n",
    "print(\"Proposed Naive Bayes:\", Predicted_Train_Labels_Accuracy*100)\n",
    "gnb = GaussianNB()\n",
    "gnb.fit(DataFrame_Program_Data_Features,DataFrame_Program_Data_Labels)\n",
    "y_pred = gnb.predict(DataFrame_Train_Data_Features)\n",
    "print(\"Standard Naive Bayes:\", metrics.accuracy_score(DataFrame_Train_Data_Labels, y_pred)*100)\n",
    "print(\"- - - - - - - - - - - - - - - - - - - - - - - - - - - - - - - - - - - - - -\")"
   ]
  },
  {
   "cell_type": "code",
   "execution_count": 23,
   "metadata": {
    "colab": {
     "base_uri": "https://localhost:8080/"
    },
    "id": "H-jASe9_AFpE",
    "outputId": "e15b6fa4-75a5-4a69-8c56-97ebc029d514"
   },
   "outputs": [
    {
     "name": "stdout",
     "output_type": "stream",
     "text": [
      "- - - - - - - - - - - - - - - - - - - - - - - - - - - - - - - - - - - - - -\n",
      "Batch 2\n",
      "Naive Bayes Model\n",
      "\n",
      "Input - Height, Weight, Age\n",
      "Output - Gender\n",
      "\n",
      "Training Data - Train_Data\n",
      "Testing Data - Program_Data\n",
      "\n",
      "Proposed Naive Bayes: 65.0\n",
      "Standard Naive Bayes: 63.33333333333333\n",
      "- - - - - - - - - - - - - - - - - - - - - - - - - - - - - - - - - - - - - -\n"
     ]
    }
   ],
   "source": [
    "\"\"\" Target 12 \"\"\"\n",
    "print(\"- - - - - - - - - - - - - - - - - - - - - - - - - - - - - - - - - - - - - -\")\n",
    "print(\"Batch 2\")\n",
    "print(\"Naive Bayes Model\")\n",
    "print()\n",
    "print(\"Input - Height, Weight, Age\")\n",
    "print(\"Output - Gender\")\n",
    "print()\n",
    "print(\"Training Data - Train_Data\")\n",
    "print(\"Testing Data - Program_Data\")\n",
    "print()\n",
    "Model_One = Naive_Bayes_Classifier_Model()\n",
    "Model_One.fit(DataFrame_Train_Data_Features, DataFrame_Train_Data_Labels)\n",
    "Predicted_Train_Labels = Model_One.predict(DataFrame_Program_Data_Features)\n",
    "Predicted_Train_Labels_Accuracy = metrics.accuracy_score(DataFrame_Program_Data_Labels, Predicted_Train_Labels)\n",
    "print(\"Proposed Naive Bayes:\", Predicted_Train_Labels_Accuracy*100)\n",
    "from sklearn.naive_bayes import GaussianNB\n",
    "gnb = GaussianNB()\n",
    "gnb.fit(DataFrame_Train_Data_Features, DataFrame_Train_Data_Labels)\n",
    "Predicted_Train_Labels = gnb.predict(DataFrame_Program_Data_Features)\n",
    "from sklearn import metrics\n",
    "print(\"Standard Naive Bayes:\", metrics.accuracy_score(DataFrame_Program_Data_Labels, Predicted_Train_Labels)*100)\n",
    "print(\"- - - - - - - - - - - - - - - - - - - - - - - - - - - - - - - - - - - - - -\")"
   ]
  },
  {
   "cell_type": "code",
   "execution_count": 24,
   "metadata": {
    "colab": {
     "base_uri": "https://localhost:8080/"
    },
    "id": "SGOhUzOaAD9H",
    "outputId": "36f94b33-4d04-4665-b4f7-1dbe0476ef15"
   },
   "outputs": [
    {
     "name": "stdout",
     "output_type": "stream",
     "text": [
      "- - - - - - - - - - - - - - - - - - - - - - - - - - - - - - - - - - - - - -\n",
      "Batch 3\n",
      "Naive Bayes Model\n",
      "\n",
      "Input - Height, Weight\n",
      "Output - Gender\n",
      "\n",
      "Training Data - Program_Data\n",
      "Testing Data - Train_Data\n",
      "\n",
      "Proposed Naive Bayes: 71.42857142857143\n",
      "Standard Naive Bayes: 85.71428571428571\n",
      "- - - - - - - - - - - - - - - - - - - - - - - - - - - - - - - - - - - - - -\n"
     ]
    }
   ],
   "source": [
    "\"\"\" Target 13 \"\"\"\n",
    "print(\"- - - - - - - - - - - - - - - - - - - - - - - - - - - - - - - - - - - - - -\")\n",
    "print(\"Batch 3\")\n",
    "print(\"Naive Bayes Model\")\n",
    "print()\n",
    "print(\"Input - Height, Weight\")\n",
    "print(\"Output - Gender\")\n",
    "print()\n",
    "print(\"Training Data - Program_Data\")\n",
    "print(\"Testing Data - Train_Data\")\n",
    "print()\n",
    "Model_One = Naive_Bayes_Classifier_Model()\n",
    "Model_One.fit(DataFrame_Program_Data_Features.iloc[:,:-1],DataFrame_Program_Data_Labels)\n",
    "Predicted_Train_Labels = Model_One.predict(DataFrame_Train_Data_Features.iloc[:,:-1])\n",
    "Predicted_Train_Labels_Accuracy = metrics.accuracy_score(DataFrame_Train_Data_Labels, Predicted_Train_Labels)\n",
    "print(\"Proposed Naive Bayes:\", Predicted_Train_Labels_Accuracy*100)\n",
    "from sklearn.naive_bayes import GaussianNB\n",
    "gnb = GaussianNB()\n",
    "gnb.fit(DataFrame_Program_Data_Features.iloc[:,:-1],DataFrame_Program_Data_Labels)\n",
    "y_pred = gnb.predict(DataFrame_Train_Data_Features.iloc[:,:-1])\n",
    "from sklearn import metrics\n",
    "print(\"Standard Naive Bayes:\", metrics.accuracy_score(DataFrame_Train_Data_Labels, y_pred)*100)\n",
    "print(\"- - - - - - - - - - - - - - - - - - - - - - - - - - - - - - - - - - - - - -\")"
   ]
  },
  {
   "cell_type": "code",
   "execution_count": 25,
   "metadata": {
    "colab": {
     "base_uri": "https://localhost:8080/"
    },
    "id": "FPhUh64EACpe",
    "outputId": "f3aa7c87-f6f8-4688-840d-794bf228a135"
   },
   "outputs": [
    {
     "name": "stdout",
     "output_type": "stream",
     "text": [
      "- - - - - - - - - - - - - - - - - - - - - - - - - - - - - - - - - - - - - -\n",
      "Batch 4\n",
      "Naive Bayes Model\n",
      "\n",
      "Input - Height, Weight, Age\n",
      "Output - Gender\n",
      "\n",
      "Training Data - Train_Data\n",
      "Testing Data - Program_Data\n",
      "\n",
      "Proposed Naive Bayes: 65.0\n",
      "Standard Naive Bayes: 65.83333333333333\n",
      "- - - - - - - - - - - - - - - - - - - - - - - - - - - - - - - - - - - - - -\n"
     ]
    }
   ],
   "source": [
    "\"\"\" Target 14 \"\"\"\n",
    "print(\"- - - - - - - - - - - - - - - - - - - - - - - - - - - - - - - - - - - - - -\")\n",
    "print(\"Batch 4\")\n",
    "print(\"Naive Bayes Model\")\n",
    "print()\n",
    "print(\"Input - Height, Weight, Age\")\n",
    "print(\"Output - Gender\")\n",
    "print()\n",
    "print(\"Training Data - Train_Data\")\n",
    "print(\"Testing Data - Program_Data\")\n",
    "print()\n",
    "Model_One = Naive_Bayes_Classifier_Model()\n",
    "Model_One.fit(DataFrame_Train_Data_Features.iloc[:,:-1], DataFrame_Train_Data_Labels)\n",
    "Predicted_Train_Labels = Model_One.predict(DataFrame_Program_Data_Features.iloc[:,:-1])\n",
    "Predicted_Train_Labels_Accuracy = metrics.accuracy_score(DataFrame_Program_Data_Labels, Predicted_Train_Labels)\n",
    "print(\"Proposed Naive Bayes:\", Predicted_Train_Labels_Accuracy*100)\n",
    "from sklearn.naive_bayes import GaussianNB\n",
    "gnb = GaussianNB()\n",
    "gnb.fit(DataFrame_Train_Data_Features.iloc[:,:-1], DataFrame_Train_Data_Labels)\n",
    "Predicted_Train_Labels = gnb.predict(DataFrame_Program_Data_Features.iloc[:,:-1])\n",
    "from sklearn import metrics\n",
    "print(\"Standard Naive Bayes:\", metrics.accuracy_score(DataFrame_Program_Data_Labels, Predicted_Train_Labels)*100)\n",
    "print(\"- - - - - - - - - - - - - - - - - - - - - - - - - - - - - - - - - - - - - -\")"
   ]
  },
  {
   "cell_type": "code",
   "execution_count": 26,
   "metadata": {
    "id": "gUbEVy-mAA1d"
   },
   "outputs": [],
   "source": [
    "# function to implemnet leave one out for naive bayes\n",
    "def Run_Leave_One_Out(X_Features, Y_Label):\n",
    "    List_Of_Predictions = []\n",
    "    # loop to run all main task of function\n",
    "    for x in range(len(X_Features)):\n",
    "        List_Features = [ list(y) for y in list(X_Features.values)]\n",
    "        List_Label = list(Y_Label.values)\n",
    "        Test_Feature = List_Features[x]\n",
    "        Test_Label = List_Label[x]\n",
    "        del List_Features[x]\n",
    "        del List_Label[x]\n",
    "        Train_Features = List_Features.copy()\n",
    "        Train_Label = List_Label.copy()\n",
    "        Data_Frame_Train_Features = pd.DataFrame(Train_Features)\n",
    "        Data_Frame_Train_Label = pd.Series(Train_Label)\n",
    "        Data_Frame_Test_Feature = pd.DataFrame([Test_Feature])\n",
    "        # running model\n",
    "        Model_Temp = Naive_Bayes_Classifier_Model()\n",
    "        Model_Temp.fit(Data_Frame_Train_Features, Data_Frame_Train_Label)\n",
    "        Predicted_Labels = Model_Temp.predict(Data_Frame_Test_Feature)\n",
    "        # adding data to list\n",
    "        List_Of_Predictions.append([Test_Label, Predicted_Labels[0]])\n",
    "    # returning list of predictions\n",
    "    return List_Of_Predictions"
   ]
  },
  {
   "cell_type": "code",
   "execution_count": 27,
   "metadata": {
    "colab": {
     "base_uri": "https://localhost:8080/"
    },
    "id": "u9d_zDZF__sG",
    "outputId": "5ae7c77d-8e88-4e26-c45d-adcc3b03b2dc"
   },
   "outputs": [
    {
     "name": "stdout",
     "output_type": "stream",
     "text": [
      "- - - - - - - - - - - - - - - - - - - - - - - - - - - - - - - - - - - - - -\n",
      "Batch 5\n",
      "Naive Bayes Model\n",
      "\n",
      "Input - Height, Weight, Age\n",
      "Output - Gender\n",
      "\n",
      "Leave_One_Out System\n",
      "Data Used - Program_Data\n",
      "\n",
      "Accuracy Achieved by Leave One Out System -> 69.16666666666667\n",
      "- - - - - - - - - - - - - - - - - - - - - - - - - - - - - - - - - - - - - -\n"
     ]
    }
   ],
   "source": [
    "\"\"\" Target 15 \"\"\"\n",
    "print(\"- - - - - - - - - - - - - - - - - - - - - - - - - - - - - - - - - - - - - -\")\n",
    "print(\"Batch 5\")\n",
    "print(\"Naive Bayes Model\")\n",
    "print()\n",
    "print(\"Input - Height, Weight, Age\")\n",
    "print(\"Output - Gender\")\n",
    "print(\"\")\n",
    "print(\"Leave_One_Out System\")\n",
    "print(\"Data Used - Program_Data\")\n",
    "print(\"\")\n",
    "Temp_List = Run_Leave_One_Out(DataFrame_Program_Data_Features,DataFrame_Program_Data_Labels)\n",
    "Actual_Para =  [ x[0] for x in Temp_List]\n",
    "Predicted_Para =  [ x[1] for x in Temp_List]\n",
    "print(\"Accuracy Achieved by Leave One Out System ->\",metrics.accuracy_score(Actual_Para, Predicted_Para)*100)\n",
    "print(\"- - - - - - - - - - - - - - - - - - - - - - - - - - - - - - - - - - - - - -\")"
   ]
  },
  {
   "cell_type": "code",
   "execution_count": 28,
   "metadata": {
    "colab": {
     "base_uri": "https://localhost:8080/"
    },
    "id": "m_iCRi8L_9kH",
    "outputId": "b6b47eb9-7707-4e35-f249-d52cea33a8b8"
   },
   "outputs": [
    {
     "name": "stdout",
     "output_type": "stream",
     "text": [
      "- - - - - - - - - - - - - - - - - - - - - - - - - - - - - - - - - - - - - -\n",
      "Batch 6\n",
      "Naive Bayes Model\n",
      "\n",
      "Input - Height, Weight, Age\n",
      "Output - Gender\n",
      "\n",
      "Leave_One_Out System\n",
      "Data Used - Train_Data\n",
      "\n",
      "Accuracy Achieved by Leave One Out System -> 78.57142857142857\n",
      "- - - - - - - - - - - - - - - - - - - - - - - - - - - - - - - - - - - - - -\n"
     ]
    }
   ],
   "source": [
    "\"\"\" Target 16 \"\"\"\n",
    "print(\"- - - - - - - - - - - - - - - - - - - - - - - - - - - - - - - - - - - - - -\")\n",
    "print(\"Batch 6\")\n",
    "print(\"Naive Bayes Model\")\n",
    "print()\n",
    "print(\"Input - Height, Weight, Age\")\n",
    "print(\"Output - Gender\")\n",
    "print(\"\")\n",
    "print(\"Leave_One_Out System\")\n",
    "print(\"Data Used - Train_Data\")\n",
    "print(\"\")\n",
    "Temp_List = Run_Leave_One_Out(DataFrame_Train_Data_Features, DataFrame_Train_Data_Labels)\n",
    "Actual_Para =  [ x[0] for x in Temp_List]\n",
    "Predicted_Para =  [ x[1] for x in Temp_List]\n",
    "print(\"Accuracy Achieved by Leave One Out System ->\",metrics.accuracy_score(Actual_Para, Predicted_Para)*100)\n",
    "print(\"- - - - - - - - - - - - - - - - - - - - - - - - - - - - - - - - - - - - - -\")"
   ]
  },
  {
   "cell_type": "code",
   "execution_count": 29,
   "metadata": {
    "colab": {
     "base_uri": "https://localhost:8080/"
    },
    "id": "rGLBXVD3_7-9",
    "outputId": "80134572-061f-4828-9bff-667ecc28fd20"
   },
   "outputs": [
    {
     "name": "stdout",
     "output_type": "stream",
     "text": [
      "- - - - - - - - - - - - - - - - - - - - - - - - - - - - - - - - - - - - - -\n",
      "Batch 7\n",
      "Naive Bayes Model\n",
      "\n",
      "Input - Height, Weight\n",
      "Output - Gender\n",
      "\n",
      "Leave_One_Out System\n",
      "Data Used - Program_Data\n",
      "\n",
      "Accuracy Achieved by Leave One Out System -> 70.83333333333334\n",
      "- - - - - - - - - - - - - - - - - - - - - - - - - - - - - - - - - - - - - -\n"
     ]
    }
   ],
   "source": [
    "\"\"\" Target 17 \"\"\"\n",
    "print(\"- - - - - - - - - - - - - - - - - - - - - - - - - - - - - - - - - - - - - -\")\n",
    "print(\"Batch 7\")\n",
    "print(\"Naive Bayes Model\")\n",
    "print()\n",
    "print(\"Input - Height, Weight\")\n",
    "print(\"Output - Gender\")\n",
    "print(\"\")\n",
    "print(\"Leave_One_Out System\")\n",
    "print(\"Data Used - Program_Data\")\n",
    "print(\"\")\n",
    "Temp_List = Run_Leave_One_Out(DataFrame_Program_Data_Features.iloc[:,:-1],DataFrame_Program_Data_Labels)\n",
    "Actual_Para =  [ x[0] for x in Temp_List]\n",
    "Predicted_Para =  [ x[1] for x in Temp_List]\n",
    "print(\"Accuracy Achieved by Leave One Out System ->\",metrics.accuracy_score(Actual_Para, Predicted_Para)*100)\n",
    "print(\"- - - - - - - - - - - - - - - - - - - - - - - - - - - - - - - - - - - - - -\")"
   ]
  },
  {
   "cell_type": "code",
   "execution_count": 30,
   "metadata": {
    "colab": {
     "base_uri": "https://localhost:8080/"
    },
    "id": "uIg-k3O5_6de",
    "outputId": "ab6c3098-6ecb-447a-bc0f-b79129e6ac10"
   },
   "outputs": [
    {
     "name": "stdout",
     "output_type": "stream",
     "text": [
      "- - - - - - - - - - - - - - - - - - - - - - - - - - - - - - - - - - - - - -\n",
      "Batch 8\n",
      "Naive Bayes Model\n",
      "\n",
      "Input - Height, Weight\n",
      "Output - Gender\n",
      "\n",
      "Leave_One_Out System\n",
      "Data Used - Train_Data\n",
      "\n",
      "Accuracy Achieved by Leave One Out System -> 78.57142857142857\n",
      "- - - - - - - - - - - - - - - - - - - - - - - - - - - - - - - - - - - - - -\n"
     ]
    }
   ],
   "source": [
    "\"\"\" Target 18 \"\"\"\n",
    "print(\"- - - - - - - - - - - - - - - - - - - - - - - - - - - - - - - - - - - - - -\")\n",
    "print(\"Batch 8\")\n",
    "print(\"Naive Bayes Model\")\n",
    "print()\n",
    "print(\"Input - Height, Weight\")\n",
    "print(\"Output - Gender\")\n",
    "print(\"\")\n",
    "print(\"Leave_One_Out System\")\n",
    "print(\"Data Used - Train_Data\")\n",
    "print(\"\")\n",
    "Temp_List = Run_Leave_One_Out(DataFrame_Train_Data_Features.iloc[:,:-1], DataFrame_Train_Data_Labels)\n",
    "Actual_Para =  [ x[0] for x in Temp_List]\n",
    "Predicted_Para =  [ x[1] for x in Temp_List]\n",
    "print(\"Accuracy Achieved by Leave One Out System ->\",metrics.accuracy_score(Actual_Para, Predicted_Para)*100)\n",
    "print(\"- - - - - - - - - - - - - - - - - - - - - - - - - - - - - - - - - - - - - -\")"
   ]
  },
  {
   "cell_type": "code",
   "execution_count": 31,
   "metadata": {
    "colab": {
     "base_uri": "https://localhost:8080/"
    },
    "id": "v0BRxbTS_5HP",
    "outputId": "c8bb8684-e4d1-41ac-a7a4-ab53b3ca3647"
   },
   "outputs": [
    {
     "name": "stdout",
     "output_type": "stream",
     "text": [
      "- - - - - - - - - - - - - - - - - - - - - - - - - - - - - - - - - - - - - -\n",
      "End Result - \n",
      "Naive Bayes Model\n",
      "The Age columns is not important, as model without age is performing either same or good.\n",
      "- - - - - - - - - - - - - - - - - - - - - - - - - - - - - - - - - - - - - -\n"
     ]
    }
   ],
   "source": [
    "print(\"- - - - - - - - - - - - - - - - - - - - - - - - - - - - - - - - - - - - - -\")\n",
    "print(\"End Result - \")\n",
    "print(\"Naive Bayes Model\")\n",
    "print(\"The Age columns is not important, as model without age is performing either same or good.\")\n",
    "print(\"- - - - - - - - - - - - - - - - - - - - - - - - - - - - - - - - - - - - - -\")"
   ]
  },
  {
   "cell_type": "code",
   "execution_count": 32,
   "metadata": {
    "colab": {
     "base_uri": "https://localhost:8080/"
    },
    "id": "wglxHOqV_4H3",
    "outputId": "42cb8b2d-f4b3-4c96-b074-c59f91d95b7a"
   },
   "outputs": [
    {
     "name": "stdout",
     "output_type": "stream",
     "text": [
      "- - - - - - - - - - - - - - - - - - - - - - - - - - - - - - - - - - - - - -\n",
      "End Analysis - \n",
      "\n",
      "KNN Model  - Highest Accuracy Achieved - - 92.85\n",
      "Input - Height, Weight | Output - Gender\n",
      "Training Data - Program_Data | Testing Data - Train_Data\n",
      "\n",
      "Naive Bayes - Model Highest Accuracy Achieved - 71.42\n",
      "Input - Height, Weight | Output - Gender\n",
      "Training Data - Program_Data | Testing Data - Train_Data\n",
      "\n",
      "The Age columns is not important in KNN but not in NB.\n",
      "- - - - - - - - - - - - - - - - - - - - - - - - - - - - - - - - - - - - - -\n"
     ]
    }
   ],
   "source": [
    "print(\"- - - - - - - - - - - - - - - - - - - - - - - - - - - - - - - - - - - - - -\")\n",
    "print(\"End Analysis - \")\n",
    "print()\n",
    "print(\"KNN Model  - Highest Accuracy Achieved - - 92.85\")\n",
    "print(\"Input - Height, Weight | Output - Gender\")\n",
    "print(\"Training Data - Program_Data | Testing Data - Train_Data\")\n",
    "print()\n",
    "print(\"Naive Bayes - Model Highest Accuracy Achieved - 71.42\")\n",
    "print(\"Input - Height, Weight | Output - Gender\")\n",
    "print(\"Training Data - Program_Data | Testing Data - Train_Data\")\n",
    "print()\n",
    "print(\"The Age columns is not important in KNN but not in NB.\")\n",
    "print(\"- - - - - - - - - - - - - - - - - - - - - - - - - - - - - - - - - - - - - -\")"
   ]
  }
 ],
 "metadata": {
  "colab": {
   "collapsed_sections": [],
   "provenance": []
  },
  "kernelspec": {
   "display_name": "Python 3",
   "language": "python",
   "name": "python3"
  },
  "language_info": {
   "codemirror_mode": {
    "name": "ipython",
    "version": 3
   },
   "file_extension": ".py",
   "mimetype": "text/x-python",
   "name": "python",
   "nbconvert_exporter": "python",
   "pygments_lexer": "ipython3",
   "version": "3.8.5"
  }
 },
 "nbformat": 4,
 "nbformat_minor": 1
}
